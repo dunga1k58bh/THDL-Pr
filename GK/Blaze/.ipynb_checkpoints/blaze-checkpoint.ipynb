{
 "cells": [
  {
   "cell_type": "code",
   "execution_count": 1,
   "metadata": {
    "colab": {
     "base_uri": "https://localhost:8080/"
    },
    "id": "qfd1bS0SKrGC",
    "outputId": "0fb720d8-5f62-456f-e440-086c4e9f6e48"
   },
   "outputs": [
    {
     "name": "stdout",
     "output_type": "stream",
     "text": [
      "Collecting git+https://github.com/blaze/blaze\n",
      "  Cloning https://github.com/blaze/blaze to c:\\users\\ntd27\\appdata\\local\\temp\\pip-req-build-fx5o1a4_\n",
      "Requirement already satisfied: flask>=0.10.1 in c:\\users\\ntd27\\anaconda3\\lib\\site-packages (from blaze==0.11.3+38.g6c377268) (1.1.2)\n",
      "Collecting flask-cors\n",
      "  Downloading Flask_Cors-3.0.10-py2.py3-none-any.whl (14 kB)\n",
      "Collecting odo>=0.5.0\n",
      "  Downloading odo-0.5.0.tar.gz (129 kB)\n",
      "Requirement already satisfied: psutil in c:\\users\\ntd27\\anaconda3\\lib\\site-packages (from blaze==0.11.3+38.g6c377268) (5.8.0)\n",
      "Requirement already satisfied: sqlalchemy>=0.8.0 in c:\\users\\ntd27\\anaconda3\\lib\\site-packages (from blaze==0.11.3+38.g6c377268) (1.4.7)\n",
      "Requirement already satisfied: toolz in c:\\users\\ntd27\\anaconda3\\lib\\site-packages (from blaze==0.11.3+38.g6c377268) (0.11.1)\n",
      "Requirement already satisfied: dask[dataframe] in c:\\users\\ntd27\\anaconda3\\lib\\site-packages (from blaze==0.11.3+38.g6c377268) (2021.4.0)\n",
      "Requirement already satisfied: Jinja2>=2.10.1 in c:\\users\\ntd27\\anaconda3\\lib\\site-packages (from flask>=0.10.1->blaze==0.11.3+38.g6c377268) (2.11.3)\n",
      "Requirement already satisfied: click>=5.1 in c:\\users\\ntd27\\anaconda3\\lib\\site-packages (from flask>=0.10.1->blaze==0.11.3+38.g6c377268) (7.1.2)\n",
      "Requirement already satisfied: Werkzeug>=0.15 in c:\\users\\ntd27\\anaconda3\\lib\\site-packages (from flask>=0.10.1->blaze==0.11.3+38.g6c377268) (1.0.1)\n",
      "Requirement already satisfied: itsdangerous>=0.24 in c:\\users\\ntd27\\anaconda3\\lib\\site-packages (from flask>=0.10.1->blaze==0.11.3+38.g6c377268) (1.1.0)\n",
      "Requirement already satisfied: MarkupSafe>=0.23 in c:\\users\\ntd27\\anaconda3\\lib\\site-packages (from Jinja2>=2.10.1->flask>=0.10.1->blaze==0.11.3+38.g6c377268) (1.1.1)\n",
      "Collecting datashape>=0.5.0\n",
      "  Downloading datashape-0.5.2.tar.gz (76 kB)\n",
      "Requirement already satisfied: numpy>=1.7 in c:\\users\\ntd27\\anaconda3\\lib\\site-packages (from odo>=0.5.0->blaze==0.11.3+38.g6c377268) (1.20.1)\n",
      "Requirement already satisfied: pandas>=0.15.0 in c:\\users\\ntd27\\anaconda3\\lib\\site-packages (from odo>=0.5.0->blaze==0.11.3+38.g6c377268) (1.2.4)\n",
      "Requirement already satisfied: multipledispatch>=0.4.7 in c:\\users\\ntd27\\anaconda3\\lib\\site-packages (from odo>=0.5.0->blaze==0.11.3+38.g6c377268) (0.6.0)\n",
      "Requirement already satisfied: networkx in c:\\users\\ntd27\\anaconda3\\lib\\site-packages (from odo>=0.5.0->blaze==0.11.3+38.g6c377268) (2.5)\n",
      "Requirement already satisfied: python-dateutil in c:\\users\\ntd27\\anaconda3\\lib\\site-packages (from datashape>=0.5.0->odo>=0.5.0->blaze==0.11.3+38.g6c377268) (2.8.1)\n",
      "Requirement already satisfied: six in c:\\users\\ntd27\\anaconda3\\lib\\site-packages (from multipledispatch>=0.4.7->odo>=0.5.0->blaze==0.11.3+38.g6c377268) (1.15.0)\n",
      "Requirement already satisfied: pytz>=2017.3 in c:\\users\\ntd27\\anaconda3\\lib\\site-packages (from pandas>=0.15.0->odo>=0.5.0->blaze==0.11.3+38.g6c377268) (2021.1)\n",
      "Requirement already satisfied: greenlet!=0.4.17 in c:\\users\\ntd27\\anaconda3\\lib\\site-packages (from sqlalchemy>=0.8.0->blaze==0.11.3+38.g6c377268) (1.0.0)\n",
      "Requirement already satisfied: fsspec>=0.6.0 in c:\\users\\ntd27\\anaconda3\\lib\\site-packages (from dask[dataframe]->blaze==0.11.3+38.g6c377268) (0.9.0)\n",
      "Requirement already satisfied: cloudpickle>=1.1.1 in c:\\users\\ntd27\\anaconda3\\lib\\site-packages (from dask[dataframe]->blaze==0.11.3+38.g6c377268) (1.6.0)\n",
      "Requirement already satisfied: partd>=0.3.10 in c:\\users\\ntd27\\anaconda3\\lib\\site-packages (from dask[dataframe]->blaze==0.11.3+38.g6c377268) (1.2.0)\n",
      "Requirement already satisfied: pyyaml in c:\\users\\ntd27\\anaconda3\\lib\\site-packages (from dask[dataframe]->blaze==0.11.3+38.g6c377268) (5.4.1)\n",
      "Requirement already satisfied: locket in c:\\users\\ntd27\\anaconda3\\lib\\site-packages\\locket-0.2.1-py3.8.egg (from partd>=0.3.10->dask[dataframe]->blaze==0.11.3+38.g6c377268) (0.2.1)\n",
      "Requirement already satisfied: decorator>=4.3.0 in c:\\users\\ntd27\\anaconda3\\lib\\site-packages (from networkx->odo>=0.5.0->blaze==0.11.3+38.g6c377268) (5.0.6)\n",
      "Building wheels for collected packages: blaze, odo, datashape\n",
      "  Building wheel for blaze (setup.py): started\n",
      "  Building wheel for blaze (setup.py): finished with status 'done'\n",
      "  Created wheel for blaze: filename=blaze-0.11.3+38.g6c377268-py3-none-any.whl size=493463 sha256=f98b23ce693961f57a9133ef88e34a1393f6f74ab5df3b9d28a614453100634c\n",
      "  Stored in directory: C:\\Users\\ntd27\\AppData\\Local\\Temp\\pip-ephem-wheel-cache-n0hdizmj\\wheels\\05\\61\\52\\1df94bac4c2589d142daf9702c6bb199c5d8a590c3d472815b\n",
      "  Building wheel for odo (setup.py): started\n",
      "  Building wheel for odo (setup.py): finished with status 'done'\n",
      "  Created wheel for odo: filename=odo-0.5.0-py3-none-any.whl size=128168 sha256=7b965ccc641ec68f9f928287e586eb62002e3ceccb9a3d5270a5666abcf36ef7\n",
      "  Stored in directory: c:\\users\\ntd27\\appdata\\local\\pip\\cache\\wheels\\6f\\b6\\5e\\41ae89a88f28d0a2be7f95c4bd1e9959834478887a8e1e3e60\n",
      "  Building wheel for datashape (setup.py): started\n",
      "  Building wheel for datashape (setup.py): finished with status 'done'\n",
      "  Created wheel for datashape: filename=datashape-0.5.2-py3-none-any.whl size=59441 sha256=ad8167ed7871d1ff568d862094c9a22c1abc064870d1656caa3157c7ee82d8de\n",
      "  Stored in directory: c:\\users\\ntd27\\appdata\\local\\pip\\cache\\wheels\\6d\\79\\c4\\c425774559165f472d32e5ef592ff9a71179abb31f05dbc98b\n",
      "Successfully built blaze odo datashape\n",
      "Installing collected packages: datashape, odo, flask-cors, blaze\n",
      "Successfully installed blaze-0.11.3+38.g6c377268 datashape-0.5.2 flask-cors-3.0.10 odo-0.5.0\n"
     ]
    },
    {
     "name": "stderr",
     "output_type": "stream",
     "text": [
      "  Running command git clone -q https://github.com/blaze/blaze 'C:\\Users\\ntd27\\AppData\\Local\\Temp\\pip-req-build-fx5o1a4_'\n"
     ]
    }
   ],
   "source": [
    "!pip install git+https://github.com/blaze/blaze  --upgrade\n"
   ]
  },
  {
   "cell_type": "code",
   "execution_count": 2,
   "metadata": {
    "colab": {
     "base_uri": "https://localhost:8080/"
    },
    "id": "ShQ3ZvorSN5Y",
    "outputId": "889a0888-0978-4251-d669-29acdba8d000"
   },
   "outputs": [
    {
     "name": "stdout",
     "output_type": "stream",
     "text": [
      "Collecting SQLAlchemy==1.2.19\n",
      "  Downloading SQLAlchemy-1.2.19.tar.gz (5.7 MB)\n",
      "Building wheels for collected packages: SQLAlchemy\n",
      "  Building wheel for SQLAlchemy (setup.py): started\n",
      "  Building wheel for SQLAlchemy (setup.py): finished with status 'done'\n",
      "  Created wheel for SQLAlchemy: filename=SQLAlchemy-1.2.19-cp38-cp38-win_amd64.whl size=1114282 sha256=d270d5a6ed40125728b85c04791a5066c981ba03eaf1b7a217840c5865da4e89\n",
      "  Stored in directory: c:\\users\\ntd27\\appdata\\local\\pip\\cache\\wheels\\0d\\13\\f8\\47c2f3157957c3693caffa64a94a718cb1357fe186e4d52e48\n",
      "Successfully built SQLAlchemy\n",
      "Installing collected packages: SQLAlchemy\n",
      "  Attempting uninstall: SQLAlchemy\n",
      "    Found existing installation: SQLAlchemy 1.4.7\n",
      "    Uninstalling SQLAlchemy-1.4.7:\n",
      "      Successfully uninstalled SQLAlchemy-1.4.7\n",
      "Successfully installed SQLAlchemy-1.2.19\n",
      "Note: you may need to restart the kernel to use updated packages.\n"
     ]
    }
   ],
   "source": [
    "pip install SQLAlchemy==1.2.19"
   ]
  },
  {
   "cell_type": "code",
   "execution_count": 3,
   "metadata": {
    "colab": {
     "base_uri": "https://localhost:8080/"
    },
    "id": "ZUUtx6DGS60X",
    "outputId": "b00dbbb9-918c-4ebc-9094-1df10046f9ec"
   },
   "outputs": [
    {
     "name": "stdout",
     "output_type": "stream",
     "text": [
      "Collecting diGraph==0.1.2\n",
      "  Downloading diGraph-0.1.2-py3-none-any.whl (8.0 kB)\n",
      "Requirement already satisfied: matplotlib in c:\\users\\ntd27\\anaconda3\\lib\\site-packages (from diGraph==0.1.2) (3.3.4)\n",
      "Requirement already satisfied: numpy in c:\\users\\ntd27\\anaconda3\\lib\\site-packages (from diGraph==0.1.2) (1.20.1)\n",
      "Requirement already satisfied: pillow>=6.2.0 in c:\\users\\ntd27\\anaconda3\\lib\\site-packages (from matplotlib->diGraph==0.1.2) (8.2.0)\n",
      "Requirement already satisfied: cycler>=0.10 in c:\\users\\ntd27\\anaconda3\\lib\\site-packages (from matplotlib->diGraph==0.1.2) (0.10.0)\n",
      "Requirement already satisfied: pyparsing!=2.0.4,!=2.1.2,!=2.1.6,>=2.0.3 in c:\\users\\ntd27\\anaconda3\\lib\\site-packages (from matplotlib->diGraph==0.1.2) (2.4.7)\n",
      "Requirement already satisfied: python-dateutil>=2.1 in c:\\users\\ntd27\\anaconda3\\lib\\site-packages (from matplotlib->diGraph==0.1.2) (2.8.1)\n",
      "Requirement already satisfied: kiwisolver>=1.0.1 in c:\\users\\ntd27\\anaconda3\\lib\\site-packages (from matplotlib->diGraph==0.1.2) (1.3.1)\n",
      "Requirement already satisfied: six in c:\\users\\ntd27\\anaconda3\\lib\\site-packages (from cycler>=0.10->matplotlib->diGraph==0.1.2) (1.15.0)\n",
      "Installing collected packages: diGraph\n",
      "Successfully installed diGraph-0.1.2\n",
      "Note: you may need to restart the kernel to use updated packages.\n"
     ]
    }
   ],
   "source": [
    "pip install diGraph==0.1.2\n"
   ]
  },
  {
   "cell_type": "code",
   "execution_count": 4,
   "metadata": {
    "colab": {
     "base_uri": "https://localhost:8080/"
    },
    "id": "6G0WbgvDKf07",
    "outputId": "48f336e1-49e4-493b-cadd-5f013a8b6362"
   },
   "outputs": [
    {
     "ename": "AttributeError",
     "evalue": "module 'pandas' has no attribute 'tslib'",
     "output_type": "error",
     "traceback": [
      "\u001b[1;31m---------------------------------------------------------------------------\u001b[0m",
      "\u001b[1;31mAttributeError\u001b[0m                            Traceback (most recent call last)",
      "\u001b[1;32m<ipython-input-4-197fbb4fe036>\u001b[0m in \u001b[0;36m<module>\u001b[1;34m\u001b[0m\n\u001b[1;32m----> 1\u001b[1;33m \u001b[1;32mfrom\u001b[0m \u001b[0mblaze\u001b[0m \u001b[1;32mimport\u001b[0m \u001b[1;33m*\u001b[0m\u001b[1;33m\u001b[0m\u001b[1;33m\u001b[0m\u001b[0m\n\u001b[0m",
      "\u001b[1;32m~\\anaconda3\\lib\\site-packages\\blaze\\__init__.py\u001b[0m in \u001b[0;36m<module>\u001b[1;34m\u001b[0m\n\u001b[0;32m      7\u001b[0m \u001b[1;33m\u001b[0m\u001b[0m\n\u001b[0;32m      8\u001b[0m \u001b[1;32mfrom\u001b[0m \u001b[0mpandas\u001b[0m \u001b[1;32mimport\u001b[0m \u001b[0mDataFrame\u001b[0m\u001b[1;33m\u001b[0m\u001b[1;33m\u001b[0m\u001b[0m\n\u001b[1;32m----> 9\u001b[1;33m \u001b[1;32mfrom\u001b[0m \u001b[0modo\u001b[0m \u001b[1;32mimport\u001b[0m \u001b[0modo\u001b[0m\u001b[1;33m,\u001b[0m \u001b[0mconvert\u001b[0m\u001b[1;33m,\u001b[0m \u001b[0mappend\u001b[0m\u001b[1;33m,\u001b[0m \u001b[0mdrop\u001b[0m\u001b[1;33m,\u001b[0m \u001b[0mresource\u001b[0m\u001b[1;33m\u001b[0m\u001b[1;33m\u001b[0m\u001b[0m\n\u001b[0m\u001b[0;32m     10\u001b[0m \u001b[1;32mfrom\u001b[0m \u001b[0modo\u001b[0m\u001b[1;33m.\u001b[0m\u001b[0mbackends\u001b[0m\u001b[1;33m.\u001b[0m\u001b[0mcsv\u001b[0m \u001b[1;32mimport\u001b[0m \u001b[0mCSV\u001b[0m\u001b[1;33m\u001b[0m\u001b[1;33m\u001b[0m\u001b[0m\n\u001b[0;32m     11\u001b[0m \u001b[1;32mfrom\u001b[0m \u001b[0modo\u001b[0m\u001b[1;33m.\u001b[0m\u001b[0mbackends\u001b[0m\u001b[1;33m.\u001b[0m\u001b[0mjson\u001b[0m \u001b[1;32mimport\u001b[0m \u001b[0mJSON\u001b[0m\u001b[1;33m,\u001b[0m \u001b[0mJSONLines\u001b[0m\u001b[1;33m\u001b[0m\u001b[1;33m\u001b[0m\u001b[0m\n",
      "\u001b[1;32m~\\anaconda3\\lib\\site-packages\\odo\\__init__.py\u001b[0m in \u001b[0;36m<module>\u001b[1;34m\u001b[0m\n\u001b[0;32m     27\u001b[0m     \u001b[1;32mfrom\u001b[0m \u001b[1;33m.\u001b[0m\u001b[0mbackends\u001b[0m\u001b[1;33m.\u001b[0m\u001b[0msas\u001b[0m \u001b[1;32mimport\u001b[0m \u001b[0msas7bdat\u001b[0m\u001b[1;33m\u001b[0m\u001b[1;33m\u001b[0m\u001b[0m\n\u001b[0;32m     28\u001b[0m \u001b[1;32mwith\u001b[0m \u001b[0mignoring\u001b[0m\u001b[1;33m(\u001b[0m\u001b[0mImportError\u001b[0m\u001b[1;33m)\u001b[0m\u001b[1;33m:\u001b[0m\u001b[1;33m\u001b[0m\u001b[1;33m\u001b[0m\u001b[0m\n\u001b[1;32m---> 29\u001b[1;33m     \u001b[1;32mfrom\u001b[0m \u001b[1;33m.\u001b[0m\u001b[0mbackends\u001b[0m\u001b[1;33m.\u001b[0m\u001b[0mpandas\u001b[0m \u001b[1;32mimport\u001b[0m \u001b[0mpd\u001b[0m\u001b[1;33m\u001b[0m\u001b[1;33m\u001b[0m\u001b[0m\n\u001b[0m\u001b[0;32m     30\u001b[0m \u001b[1;32mwith\u001b[0m \u001b[0mignoring\u001b[0m\u001b[1;33m(\u001b[0m\u001b[0mImportError\u001b[0m\u001b[1;33m)\u001b[0m\u001b[1;33m:\u001b[0m\u001b[1;33m\u001b[0m\u001b[1;33m\u001b[0m\u001b[0m\n\u001b[0;32m     31\u001b[0m     \u001b[1;32mfrom\u001b[0m \u001b[1;33m.\u001b[0m\u001b[0mbackends\u001b[0m\u001b[1;33m.\u001b[0m\u001b[0mbcolz\u001b[0m \u001b[1;32mimport\u001b[0m \u001b[0mbcolz\u001b[0m\u001b[1;33m\u001b[0m\u001b[1;33m\u001b[0m\u001b[0m\n",
      "\u001b[1;32m~\\anaconda3\\lib\\site-packages\\odo\\backends\\pandas.py\u001b[0m in \u001b[0;36m<module>\u001b[1;34m\u001b[0m\n\u001b[0;32m     92\u001b[0m \u001b[1;33m\u001b[0m\u001b[0m\n\u001b[0;32m     93\u001b[0m \u001b[1;33m\u001b[0m\u001b[0m\n\u001b[1;32m---> 94\u001b[1;33m \u001b[1;33m@\u001b[0m\u001b[0mconvert\u001b[0m\u001b[1;33m.\u001b[0m\u001b[0mregister\u001b[0m\u001b[1;33m(\u001b[0m\u001b[1;33m(\u001b[0m\u001b[0mpd\u001b[0m\u001b[1;33m.\u001b[0m\u001b[0mTimestamp\u001b[0m\u001b[1;33m,\u001b[0m \u001b[0mpd\u001b[0m\u001b[1;33m.\u001b[0m\u001b[0mTimedelta\u001b[0m\u001b[1;33m)\u001b[0m\u001b[1;33m,\u001b[0m \u001b[1;33m(\u001b[0m\u001b[0mpd\u001b[0m\u001b[1;33m.\u001b[0m\u001b[0mtslib\u001b[0m\u001b[1;33m.\u001b[0m\u001b[0mNaTType\u001b[0m\u001b[1;33m,\u001b[0m \u001b[0mtype\u001b[0m\u001b[1;33m(\u001b[0m\u001b[1;32mNone\u001b[0m\u001b[1;33m)\u001b[0m\u001b[1;33m)\u001b[0m\u001b[1;33m)\u001b[0m\u001b[1;33m\u001b[0m\u001b[1;33m\u001b[0m\u001b[0m\n\u001b[0m\u001b[0;32m     95\u001b[0m \u001b[1;32mdef\u001b[0m \u001b[0mconvert_null_or_nat_to_nat\u001b[0m\u001b[1;33m(\u001b[0m\u001b[0mn\u001b[0m\u001b[1;33m,\u001b[0m \u001b[1;33m**\u001b[0m\u001b[0mkwargs\u001b[0m\u001b[1;33m)\u001b[0m\u001b[1;33m:\u001b[0m\u001b[1;33m\u001b[0m\u001b[1;33m\u001b[0m\u001b[0m\n\u001b[0;32m     96\u001b[0m     \u001b[1;32mreturn\u001b[0m \u001b[0mpd\u001b[0m\u001b[1;33m.\u001b[0m\u001b[0mNaT\u001b[0m\u001b[1;33m\u001b[0m\u001b[1;33m\u001b[0m\u001b[0m\n",
      "\u001b[1;32m~\\anaconda3\\lib\\site-packages\\pandas\\__init__.py\u001b[0m in \u001b[0;36m__getattr__\u001b[1;34m(name)\u001b[0m\n\u001b[0;32m    242\u001b[0m         \u001b[1;32mreturn\u001b[0m \u001b[0m_SparseArray\u001b[0m\u001b[1;33m\u001b[0m\u001b[1;33m\u001b[0m\u001b[0m\n\u001b[0;32m    243\u001b[0m \u001b[1;33m\u001b[0m\u001b[0m\n\u001b[1;32m--> 244\u001b[1;33m     \u001b[1;32mraise\u001b[0m \u001b[0mAttributeError\u001b[0m\u001b[1;33m(\u001b[0m\u001b[1;34mf\"module 'pandas' has no attribute '{name}'\"\u001b[0m\u001b[1;33m)\u001b[0m\u001b[1;33m\u001b[0m\u001b[1;33m\u001b[0m\u001b[0m\n\u001b[0m\u001b[0;32m    245\u001b[0m \u001b[1;33m\u001b[0m\u001b[0m\n\u001b[0;32m    246\u001b[0m \u001b[1;33m\u001b[0m\u001b[0m\n",
      "\u001b[1;31mAttributeError\u001b[0m: module 'pandas' has no attribute 'tslib'"
     ]
    }
   ],
   "source": [
    "from blaze import *"
   ]
  },
  {
   "cell_type": "markdown",
   "metadata": {
    "id": "jw4SlJWOUtjf"
   },
   "source": [
    "#Blaze Interactive Data\n",
    "Create simple Blaze expressions from nested lists/tuples. Blaze will deduce the dimensionality and data type to use."
   ]
  },
  {
   "cell_type": "code",
   "execution_count": null,
   "metadata": {
    "colab": {
     "base_uri": "https://localhost:8080/",
     "height": 206
    },
    "id": "aICrzEjPKZbr",
    "outputId": "531a67b5-ed3a-40d6-a823-652758bb4899"
   },
   "outputs": [],
   "source": [
    "t = data([(1, 'Alice', 100),\n",
    "        (2, 'Bob', -200),\n",
    "        (3, 'Charlie', 300),\n",
    "        (4, 'Denis', 400),\n",
    "        (5, 'Edith', -500)],\n",
    "        fields=['id', 'name', 'balance'])\n",
    "t.peek()\n"
   ]
  },
  {
   "cell_type": "markdown",
   "metadata": {
    "id": "9C8UwnD7Uiwd"
   },
   "source": [
    "# Simple Calculations\n",
    "Blaze supports simple computations like column selection and filtering with familiar Pandas getitem or attribute syntax."
   ]
  },
  {
   "cell_type": "code",
   "execution_count": null,
   "metadata": {
    "colab": {
     "base_uri": "https://localhost:8080/",
     "height": 112
    },
    "id": "hwaPgaigUzKY",
    "outputId": "dfd04c43-498a-4b3e-a48a-ff0771c357c6"
   },
   "outputs": [],
   "source": [
    "t[t.balance < 0].peek()"
   ]
  },
  {
   "cell_type": "code",
   "execution_count": null,
   "metadata": {
    "colab": {
     "base_uri": "https://localhost:8080/",
     "height": 112
    },
    "id": "euCvnEZ2VQ56",
    "outputId": "b9a4625c-a9c0-4cf5-b62b-d191595e9ca5"
   },
   "outputs": [],
   "source": [
    "t[t.balance < 0].name.peek()"
   ]
  },
  {
   "cell_type": "markdown",
   "metadata": {
    "id": "Uz6shxYEViIN"
   },
   "source": [
    "#Stored Data\n",
    "Define Blaze expressions directly from storage like CSV or HDF5 files. Here we operate on a CSV file of the traditional iris dataset."
   ]
  },
  {
   "cell_type": "code",
   "execution_count": null,
   "metadata": {
    "colab": {
     "base_uri": "https://localhost:8080/",
     "height": 458
    },
    "id": "H06JE83kVzjl",
    "outputId": "6442bc14-d891-4257-cd4f-95f9f2f40d62"
   },
   "outputs": [],
   "source": [
    "from blaze.utils import example\n",
    "house = data(example('/content/sample_data/california_housing_test.csv'))\n",
    "house.peek()"
   ]
  },
  {
   "cell_type": "markdown",
   "metadata": {
    "id": "t-1Z3FeCOdFL"
   },
   "source": [
    "#More Computations\n",
    " Common operations like Joins and split-apply-combine are available on any kind of data"
   ]
  },
  {
   "cell_type": "code",
   "execution_count": null,
   "metadata": {
    "colab": {
     "base_uri": "https://localhost:8080/",
     "height": 394
    },
    "id": "tHaQpZz5LXMy",
    "outputId": "9ceca2ae-08dd-458f-df5f-df6ee8de39f7"
   },
   "outputs": [],
   "source": [
    "by(house.latitude,                # Group by species\n",
    "min=house.median_house_value.min(),  # Minimum of petal_width per group\n",
    "max=house.median_house_value.max()).peek()  # Maximum of petal_width per group"
   ]
  },
  {
   "cell_type": "markdown",
   "metadata": {
    "id": "6Sdj-gm4RqPc"
   },
   "source": [
    "\n",
    "#Finishing Up\n",
    "Blaze computes only as much as is necessary to present the results on screen. Fully evaluate the computation, returning an output similar to the input type by calling compute."
   ]
  }
 ],
 "metadata": {
  "colab": {
   "collapsed_sections": [],
   "name": "blaze.ipynb",
   "provenance": []
  },
  "kernelspec": {
   "display_name": "Python 3",
   "language": "python",
   "name": "python3"
  },
  "language_info": {
   "codemirror_mode": {
    "name": "ipython",
    "version": 3
   },
   "file_extension": ".py",
   "mimetype": "text/x-python",
   "name": "python",
   "nbconvert_exporter": "python",
   "pygments_lexer": "ipython3",
   "version": "3.8.8"
  }
 },
 "nbformat": 4,
 "nbformat_minor": 1
}
