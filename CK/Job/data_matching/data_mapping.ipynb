{
 "cells": [
  {
   "cell_type": "code",
   "execution_count": 205,
   "metadata": {},
   "outputs": [],
   "source": [
    "import pandas as pd\n",
    "import fuzzymatcher\n",
    "import os\n",
    "import re\n",
    "pd.options.mode.chained_assignment = None"
   ]
  },
  {
   "cell_type": "code",
   "execution_count": 206,
   "metadata": {},
   "outputs": [],
   "source": [
    "path = \"../../res\"\n",
    "mapping_path = \"../../res/matching\""
   ]
  },
  {
   "cell_type": "code",
   "execution_count": 224,
   "metadata": {},
   "outputs": [],
   "source": [
    "db_table_path = \"../../Database/table\"\n",
    "df_phones = pd.read_csv(os.path.join(db_table_path, \"phones.csv\"), sep =\";\")\n",
    "df_sources = pd.read_csv(os.path.join(db_table_path, \"sources.csv\"), sep =\";\")\n",
    "df_sources.astype(str)\n",
    "df_phones.astype(str)\n",
    "df_phones['id'] = df_phones['id'].astype('int64')\n",
    "df_sources['phone_id'] = df_sources['phone_id'].astype('int64')\n",
    "\n",
    "warehouse = {}\n",
    "warehouse['phones'] = df_phones\n",
    "warehouse['sources'] = df_sources\n",
    "\n",
    "int_field = [\"ram\", \"rom\", \"battery\", \"monitor_frequency\", \"phone_id\", \"int\", 'price']"
   ]
  },
  {
   "cell_type": "code",
   "execution_count": 208,
   "metadata": {},
   "outputs": [],
   "source": [
    "def getSource(souce_name, sep=\";\"):\n",
    "    df = pd.read_csv(os.path.join(path, souce_name+\".csv\"), sep = sep)\n",
    "    df['id'] = df.index\n",
    "    df.astype(str)\n",
    "    return df\n",
    "def getMapping(source_name, sep=\";\"):\n",
    "    df = pd.read_csv(os.path.join(mapping_path, source_name+\".txt\"), sep = sep)\n",
    "    mapping = {}\n",
    "    for i in range(df.shape[0]):\n",
    "        mapping[df['schema'][i]] = df[source_name][i]\n",
    "    return mapping"
   ]
  },
  {
   "cell_type": "code",
   "execution_count": 209,
   "metadata": {},
   "outputs": [],
   "source": [
    "cellphones = getSource(\"cellphones\")\n",
    "mapping_cellphones = getMapping(\"cellphones\")\n",
    "\n",
    "hhm = getSource(\"hhm\")\n",
    "hhm['source'] = 'Hoàng Hà mobile'\n",
    "mapping_hhm = getMapping(\"hhm\")\n",
    "\n",
    "nk = getSource(\"nk\")\n",
    "nk['source'] = 'Nguyễn Kim mobile'\n",
    "mapping_nk = getMapping(\"nk\")\n",
    "\n",
    "tgdd = getSource(\"tgdd\")\n",
    "tgdd['source'] = 'Thế giới di động'\n",
    "mapping_tgdd = getMapping('tgdd')\n"
   ]
  },
  {
   "cell_type": "code",
   "execution_count": 210,
   "metadata": {},
   "outputs": [],
   "source": [
    "def load_data(source, target, mapping):\n",
    "    t = target.copy()\n",
    "    for key in mapping:\n",
    "        for table in t:\n",
    "            t[table] = t[table].copy()\n",
    "            df_table = t[table]\n",
    "            if key in df_table.columns:\n",
    "                target_table = df_table\n",
    "        target_table[key] = source[mapping[key]]\n",
    "\n",
    "    t['sources']['phone_id'] = source['id']\n",
    "    t['phones']['id'] = source['id']\n",
    "    return t\n"
   ]
  },
  {
   "cell_type": "code",
   "execution_count": null,
   "metadata": {},
   "outputs": [],
   "source": []
  },
  {
   "cell_type": "code",
   "execution_count": 211,
   "metadata": {},
   "outputs": [],
   "source": [
    "def load_match_data(source, target, id_mapping, mapping):\n",
    "    t = {}\n",
    "    phones = target['phones'].copy()\n",
    "    sources = target['sources'].copy()\n",
    "    df_not_matched = pd.DataFrame()\n",
    "    df_matched = pd.DataFrame()\n",
    "\n",
    "    df_not_matched= source[~source['id'].isin(id_mapping.keys())]\n",
    "    df_matched = source[source['id'].isin(id_mapping.keys())]\n",
    "\n",
    "    for index, row in df_matched.iterrows():\n",
    "        data_row_left = {}\n",
    "        for field in source.columns:\n",
    "            data_row_left[field] = row[field]\n",
    "        id_left = data_row_left['id']\n",
    "        row_right = phones.loc[phones['id'] == id_mapping[id_left]]\n",
    "        for index, row in row_right.iterrows():\n",
    "            for field in phones.columns:\n",
    "                if field in mapping:\n",
    "                    if str(phones.at[index, field]) == 'nan':\n",
    "                        phones.at[index, field] = data_row_left[mapping[field]]\n",
    "\n",
    "        data_source = {}\n",
    "        for field in sources.columns:\n",
    "            if field in mapping:\n",
    "                data_source[field] = (data_row_left[mapping[field]])\n",
    "            elif field =='phone_id':\n",
    "                data_source[field] = (id_mapping[id_left])\n",
    "            else :\n",
    "                data_source[field] = (\"\")\n",
    "\n",
    "        data_source = pd.DataFrame([data_source])\n",
    "        sources = pd.concat([sources,data_source] , axis=0, ignore_index=True)\n",
    "\n",
    "\n",
    "    #if object is not exist in warehouse\n",
    "    for index, row in df_not_matched.iterrows():\n",
    "        data_row = {}\n",
    "        for field in source.columns:\n",
    "            data_row[field] = row[field]\n",
    "        data_row['id'] = phones.shape[0]\n",
    "        data_phone = {}\n",
    "        for field in phones.columns:\n",
    "            if field in mapping:\n",
    "                data_phone[field] = (data_row[mapping[field]])\n",
    "            elif field == 'id':\n",
    "                data_phone['id'] = (data_row['id'])\n",
    "            else :\n",
    "                data_phone[field] = (\"\")\n",
    "\n",
    "        data_source = {}\n",
    "        for field in sources.columns:\n",
    "            if field in mapping:\n",
    "                data_source[field] = (data_row[mapping[field]])\n",
    "            elif field =='phone_id':\n",
    "                data_source[field] = (data_row['id'])\n",
    "            else :\n",
    "                data_source[field] = (\"\")\n",
    "\n",
    "        data_phone = pd.DataFrame([data_phone])\n",
    "        data_source = pd.DataFrame([data_source])\n",
    "        phones = pd.concat([phones, data_phone] , axis=0, ignore_index=True)\n",
    "        sources = pd.concat([sources,data_source] , axis=0, ignore_index=True)\n",
    "\n",
    "    t['phones'] = phones\n",
    "    t['sources'] = sources\n",
    "    return t\n"
   ]
  },
  {
   "cell_type": "code",
   "execution_count": 212,
   "metadata": {},
   "outputs": [],
   "source": [
    "def nomalize_data(df, mapping):\n",
    "    df = df.copy()\n",
    "    for key in mapping:\n",
    "        if key in int_field and df[mapping[key]].dtype == 'object':\n",
    "            for i in range(df.shape[0]):\n",
    "                a = ''.join(filter(str.isdigit, str(df[mapping[key]][i])))\n",
    "                df[mapping[key]][i] = a\n",
    "    return df"
   ]
  },
  {
   "cell_type": "code",
   "execution_count": 213,
   "metadata": {},
   "outputs": [],
   "source": [
    "def data_matching(left_df, left_col, right_df, right_col):\n",
    "    df = fuzzymatcher.fuzzy_left_join(left_df, right_df, left_col, right_col, left_id_col = \"id\", right_id_col = \"id\")\n",
    "    return df"
   ]
  },
  {
   "cell_type": "code",
   "execution_count": 214,
   "metadata": {},
   "outputs": [],
   "source": [
    "def get_data_match(df_source, target, mapping, min_accept=0.5):\n",
    "    if (target['phones'].shape[0] == 0) :\n",
    "        return pd.DataFrame()\n",
    "    target_cols = [\"name\", \"ram\", \"rom\"]\n",
    "    source_cols = [mapping[x] for x in target_cols]\n",
    "    data_match = data_matching(df_source , source_cols, target['phones'], target_cols)\n",
    "    data_match = data_match.sort_values(by=['best_match_score'], ascending=False)\n",
    "    data_match = data_match[data_match['best_match_score'] > min_accept]\n",
    "    return data_match\n",
    "\n",
    "    "
   ]
  },
  {
   "cell_type": "code",
   "execution_count": 215,
   "metadata": {},
   "outputs": [],
   "source": [
    "def show_data_match(data_match, mapping):\n",
    "   target_cols = [\"name\", \"ram\", \"rom\"]\n",
    "   show_col = ['best_match_score', '__id_left', '__id_right']\n",
    "   for col in target_cols:\n",
    "      if (mapping[col] == col):\n",
    "         show_col.append(col+'_left')\n",
    "         show_col.append(col+'_right')\n",
    "      else:\n",
    "         show_col.append(col)\n",
    "         show_col.append(mapping[col])\n",
    "\n",
    "   data = data_match[data_match.columns.intersection(show_col)]\n",
    "   return data"
   ]
  },
  {
   "cell_type": "code",
   "execution_count": 216,
   "metadata": {},
   "outputs": [],
   "source": [
    "def data_maping(df_source, target, mapping, min_accept=0.5):\n",
    "    df_source = nomalize_data(df_source,mapping)\n",
    "    data = get_data_match(df_source, target, mapping, min_accept)\n",
    "\n",
    "    if (data.empty):\n",
    "        warehouse = load_data(df_source, target,mapping)\n",
    "        return warehouse\n",
    "\n",
    "    id_left = data['__id_left'].to_list()\n",
    "    id_right = data['__id_right'].to_list()\n",
    "    \n",
    "    id_mapping = {}\n",
    "    for i in range(len(id_left)):\n",
    "        id_mapping[id_left[i]] = id_right[i]\n",
    "\n",
    "    t = load_match_data(df_source, target, id_mapping, mapping)\n",
    "    return t"
   ]
  },
  {
   "cell_type": "markdown",
   "metadata": {},
   "source": [
    "# MAPPING DATA"
   ]
  },
  {
   "cell_type": "code",
   "execution_count": 225,
   "metadata": {},
   "outputs": [],
   "source": [
    "warehouse = data_maping(cellphones, warehouse, mapping_cellphones)\n"
   ]
  },
  {
   "cell_type": "code",
   "execution_count": 228,
   "metadata": {},
   "outputs": [],
   "source": [
    "warehouse = data_maping(hhm, warehouse, mapping_hhm)"
   ]
  },
  {
   "cell_type": "code",
   "execution_count": 231,
   "metadata": {},
   "outputs": [],
   "source": [
    "warehouse = data_maping(nk, warehouse, mapping_nk, 0.1)"
   ]
  },
  {
   "cell_type": "code",
   "execution_count": 234,
   "metadata": {},
   "outputs": [],
   "source": [
    "warehouse = data_maping(tgdd, warehouse, mapping_tgdd, 0.3)"
   ]
  },
  {
   "cell_type": "markdown",
   "metadata": {},
   "source": [
    "# Output"
   ]
  },
  {
   "cell_type": "code",
   "execution_count": 241,
   "metadata": {},
   "outputs": [],
   "source": [
    "warehouse['sources']['phone_id'] = warehouse['sources']['phone_id'].astype('int64')"
   ]
  },
  {
   "cell_type": "code",
   "execution_count": 240,
   "metadata": {},
   "outputs": [],
   "source": [
    "warehouse['phones'].to_csv(os.path.join(db_table_path, \"phones.csv\"), sep =\";\",index=False)\n",
    "warehouse['sources'].to_csv(os.path.join(db_table_path, \"sources.csv\"), sep =\";\", index=False)"
   ]
  },
  {
   "cell_type": "code",
   "execution_count": null,
   "metadata": {},
   "outputs": [],
   "source": []
  },
  {
   "cell_type": "code",
   "execution_count": null,
   "metadata": {},
   "outputs": [],
   "source": []
  }
 ],
 "metadata": {
  "kernelspec": {
   "display_name": "Python 3.8.10 ('.venv': venv)",
   "language": "python",
   "name": "python3"
  },
  "language_info": {
   "codemirror_mode": {
    "name": "ipython",
    "version": 3
   },
   "file_extension": ".py",
   "mimetype": "text/x-python",
   "name": "python",
   "nbconvert_exporter": "python",
   "pygments_lexer": "ipython3",
   "version": "3.8.10"
  },
  "orig_nbformat": 4,
  "vscode": {
   "interpreter": {
    "hash": "d6b8e528907b41d34f1d46cc69be87037d69539546a6375a2492ae099a9d75f9"
   }
  }
 },
 "nbformat": 4,
 "nbformat_minor": 2
}
