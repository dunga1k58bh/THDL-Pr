{
 "cells": [
  {
   "cell_type": "code",
   "execution_count": null,
   "metadata": {},
   "outputs": [],
   "source": []
  },
  {
   "cell_type": "code",
   "execution_count": 24,
   "metadata": {},
   "outputs": [],
   "source": [
    "import requests as req\n",
    "import os\n",
    "from pathlib import Path"
   ]
  },
  {
   "cell_type": "code",
   "execution_count": 21,
   "metadata": {},
   "outputs": [],
   "source": [
    "#Config\n",
    "LIMIT = 100  #limit item per page\n",
    "PAGE = 5 #limit of page (So it will be LIMIT*PAGE item)\n",
    "\n",
    "LIMIT_REVIEW = 55\n",
    "OFF_SET = 55\n",
    "\n",
    "DATA_PATH = Path(\"data\")"
   ]
  },
  {
   "cell_type": "code",
   "execution_count": 4,
   "metadata": {},
   "outputs": [],
   "source": [
    "class Item:\n",
    "    def __init__(self, itemid, shopid):\n",
    "        self.itemid = itemid\n",
    "        self.shopid = shopid\n",
    "\n",
    "class Review:\n",
    "    def __init__(self, rating, comment, like_count):\n",
    "        self.rating = rating\n",
    "        self.comment = comment\n",
    "        self.like_count = like_count\n"
   ]
  },
  {
   "cell_type": "code",
   "execution_count": 5,
   "metadata": {},
   "outputs": [],
   "source": [
    "def getItem(keyword):\n",
    "    ls_item = []\n",
    "    page = 0\n",
    "    while (page < PAGE):\n",
    "        search_api = f\"https://shopee.vn/api/v4/search/search_items?by=relevancy&keyword={keyword}&limit={LIMIT}&newest={page}&order=desc&page_type=search&scenario=PAGE_GLOBAL_SEARCH&version=2\"\n",
    "        response = req.get(search_api)\n",
    "        items = response.json()\n",
    "        items = items['items']\n",
    "        for item in items:\n",
    "            itemid = item['item_basic']['itemid']\n",
    "            shopid = item['item_basic']['shopid']\n",
    "            ls_item.append(Item(itemid, shopid))          \n",
    "        page+=1\n",
    "    return ls_item"
   ]
  },
  {
   "cell_type": "code",
   "execution_count": 7,
   "metadata": {},
   "outputs": [],
   "source": [
    "def getRatingAPI(itemid, shopid, offset):\n",
    "    api = f\"https://shopee.vn/api/v2/item/get_ratings?filter=0&flag=1&itemid={itemid}&limit=55&offset={offset}&shopid={shopid}&type=0\"\n",
    "    return api"
   ]
  },
  {
   "cell_type": "code",
   "execution_count": 19,
   "metadata": {},
   "outputs": [],
   "source": [
    "def getReview(list_item, outputfile):\n",
    "    ls_reviews = []\n",
    "    with open(f\"{DATA_PATH}/{outputfile}\", 'a') as f:\n",
    "        \n",
    "        for item in list_item:\n",
    "            ls_re = []\n",
    "            itemid = item.itemid\n",
    "            shopid = item.shopid\n",
    "            rating_api = getRatingAPI(itemid, shopid, 0)\n",
    "            first_rate = req.get(rating_api).json()\n",
    "            rcount_with_context = first_rate['data']['item_rating_summary']['rcount_with_context']\n",
    "\n",
    "            offset = 0\n",
    "            while (offset < rcount_with_context):\n",
    "                rating_api = getRatingAPI(itemid, shopid, offset)\n",
    "                response = req.get(rating_api).json()\n",
    "                try:\n",
    "                    reviews = response['data']['ratings']\n",
    "                except:\n",
    "                    break\n",
    "                for review in reviews:\n",
    "                    try:\n",
    "                        rating = review['rating_star']\n",
    "                        comment = review['comment'].replace('\\n', '.').replace(',', ' ').replace('\\r', ' ')\n",
    "                        comment = ' '.join(comment.split())\n",
    "                        like_count = review['like_count']\n",
    "                    except:\n",
    "                        continue\n",
    "                    if len(comment):\n",
    "                        revi = Review(rating, comment, like_count)\n",
    "                        ls_reviews.append(revi)\n",
    "                        ls_re.append(revi)\n",
    "                offset += OFF_SET\n",
    "            for review in ls_re:\n",
    "                f.write(f\"{review.rating}, {review.comment}, {review.like_count}\\n\")\n",
    "        f.close()\n",
    "    return ls_reviews"
   ]
  },
  {
   "cell_type": "code",
   "execution_count": 11,
   "metadata": {},
   "outputs": [],
   "source": [
    "ls_items = getItem(\"quan ao nam\")"
   ]
  },
  {
   "cell_type": "code",
   "execution_count": 20,
   "metadata": {},
   "outputs": [],
   "source": [
    "reviews = getReview(ls_items, \"quan_ao_nam.csv\")"
   ]
  },
  {
   "cell_type": "code",
   "execution_count": 28,
   "metadata": {},
   "outputs": [
    {
     "ename": "JSONDecodeError",
     "evalue": "[Errno Expecting value] <html>\r\n<head><title>403 Forbidden</title></head>\r\n<body>\r\n<center><h1>403 Forbidden</h1></center>\r\n<hr><center>nginx</center>\r\n</body>\r\n</html>\r\n: 0",
     "output_type": "error",
     "traceback": [
      "\u001b[0;31m---------------------------------------------------------------------------\u001b[0m",
      "\u001b[0;31mJSONDecodeError\u001b[0m                           Traceback (most recent call last)",
      "File \u001b[0;32m~/Code/Reviews-Crawl/.env/lib/python3.8/site-packages/requests/models.py:910\u001b[0m, in \u001b[0;36mResponse.json\u001b[0;34m(self, **kwargs)\u001b[0m\n\u001b[1;32m    <a href='file:///home/iloveu/Code/Reviews-Crawl/.env/lib/python3.8/site-packages/requests/models.py?line=908'>909</a>\u001b[0m \u001b[39mtry\u001b[39;00m:\n\u001b[0;32m--> <a href='file:///home/iloveu/Code/Reviews-Crawl/.env/lib/python3.8/site-packages/requests/models.py?line=909'>910</a>\u001b[0m     \u001b[39mreturn\u001b[39;00m complexjson\u001b[39m.\u001b[39;49mloads(\u001b[39mself\u001b[39;49m\u001b[39m.\u001b[39;49mtext, \u001b[39m*\u001b[39;49m\u001b[39m*\u001b[39;49mkwargs)\n\u001b[1;32m    <a href='file:///home/iloveu/Code/Reviews-Crawl/.env/lib/python3.8/site-packages/requests/models.py?line=910'>911</a>\u001b[0m \u001b[39mexcept\u001b[39;00m JSONDecodeError \u001b[39mas\u001b[39;00m e:\n\u001b[1;32m    <a href='file:///home/iloveu/Code/Reviews-Crawl/.env/lib/python3.8/site-packages/requests/models.py?line=911'>912</a>\u001b[0m     \u001b[39m# Catch JSON-related errors and raise as requests.JSONDecodeError\u001b[39;00m\n\u001b[1;32m    <a href='file:///home/iloveu/Code/Reviews-Crawl/.env/lib/python3.8/site-packages/requests/models.py?line=912'>913</a>\u001b[0m     \u001b[39m# This aliases json.JSONDecodeError and simplejson.JSONDecodeError\u001b[39;00m\n",
      "File \u001b[0;32m/usr/lib/python3.8/json/__init__.py:357\u001b[0m, in \u001b[0;36mloads\u001b[0;34m(s, cls, object_hook, parse_float, parse_int, parse_constant, object_pairs_hook, **kw)\u001b[0m\n\u001b[1;32m    <a href='file:///usr/lib/python3.8/json/__init__.py?line=353'>354</a>\u001b[0m \u001b[39mif\u001b[39;00m (\u001b[39mcls\u001b[39m \u001b[39mis\u001b[39;00m \u001b[39mNone\u001b[39;00m \u001b[39mand\u001b[39;00m object_hook \u001b[39mis\u001b[39;00m \u001b[39mNone\u001b[39;00m \u001b[39mand\u001b[39;00m\n\u001b[1;32m    <a href='file:///usr/lib/python3.8/json/__init__.py?line=354'>355</a>\u001b[0m         parse_int \u001b[39mis\u001b[39;00m \u001b[39mNone\u001b[39;00m \u001b[39mand\u001b[39;00m parse_float \u001b[39mis\u001b[39;00m \u001b[39mNone\u001b[39;00m \u001b[39mand\u001b[39;00m\n\u001b[1;32m    <a href='file:///usr/lib/python3.8/json/__init__.py?line=355'>356</a>\u001b[0m         parse_constant \u001b[39mis\u001b[39;00m \u001b[39mNone\u001b[39;00m \u001b[39mand\u001b[39;00m object_pairs_hook \u001b[39mis\u001b[39;00m \u001b[39mNone\u001b[39;00m \u001b[39mand\u001b[39;00m \u001b[39mnot\u001b[39;00m kw):\n\u001b[0;32m--> <a href='file:///usr/lib/python3.8/json/__init__.py?line=356'>357</a>\u001b[0m     \u001b[39mreturn\u001b[39;00m _default_decoder\u001b[39m.\u001b[39;49mdecode(s)\n\u001b[1;32m    <a href='file:///usr/lib/python3.8/json/__init__.py?line=357'>358</a>\u001b[0m \u001b[39mif\u001b[39;00m \u001b[39mcls\u001b[39m \u001b[39mis\u001b[39;00m \u001b[39mNone\u001b[39;00m:\n",
      "File \u001b[0;32m/usr/lib/python3.8/json/decoder.py:337\u001b[0m, in \u001b[0;36mJSONDecoder.decode\u001b[0;34m(self, s, _w)\u001b[0m\n\u001b[1;32m    <a href='file:///usr/lib/python3.8/json/decoder.py?line=332'>333</a>\u001b[0m \u001b[39m\"\"\"Return the Python representation of ``s`` (a ``str`` instance\u001b[39;00m\n\u001b[1;32m    <a href='file:///usr/lib/python3.8/json/decoder.py?line=333'>334</a>\u001b[0m \u001b[39mcontaining a JSON document).\u001b[39;00m\n\u001b[1;32m    <a href='file:///usr/lib/python3.8/json/decoder.py?line=334'>335</a>\u001b[0m \n\u001b[1;32m    <a href='file:///usr/lib/python3.8/json/decoder.py?line=335'>336</a>\u001b[0m \u001b[39m\"\"\"\u001b[39;00m\n\u001b[0;32m--> <a href='file:///usr/lib/python3.8/json/decoder.py?line=336'>337</a>\u001b[0m obj, end \u001b[39m=\u001b[39m \u001b[39mself\u001b[39;49m\u001b[39m.\u001b[39;49mraw_decode(s, idx\u001b[39m=\u001b[39;49m_w(s, \u001b[39m0\u001b[39;49m)\u001b[39m.\u001b[39;49mend())\n\u001b[1;32m    <a href='file:///usr/lib/python3.8/json/decoder.py?line=337'>338</a>\u001b[0m end \u001b[39m=\u001b[39m _w(s, end)\u001b[39m.\u001b[39mend()\n",
      "File \u001b[0;32m/usr/lib/python3.8/json/decoder.py:355\u001b[0m, in \u001b[0;36mJSONDecoder.raw_decode\u001b[0;34m(self, s, idx)\u001b[0m\n\u001b[1;32m    <a href='file:///usr/lib/python3.8/json/decoder.py?line=353'>354</a>\u001b[0m \u001b[39mexcept\u001b[39;00m \u001b[39mStopIteration\u001b[39;00m \u001b[39mas\u001b[39;00m err:\n\u001b[0;32m--> <a href='file:///usr/lib/python3.8/json/decoder.py?line=354'>355</a>\u001b[0m     \u001b[39mraise\u001b[39;00m JSONDecodeError(\u001b[39m\"\u001b[39m\u001b[39mExpecting value\u001b[39m\u001b[39m\"\u001b[39m, s, err\u001b[39m.\u001b[39mvalue) \u001b[39mfrom\u001b[39;00m \u001b[39mNone\u001b[39m\n\u001b[1;32m    <a href='file:///usr/lib/python3.8/json/decoder.py?line=355'>356</a>\u001b[0m \u001b[39mreturn\u001b[39;00m obj, end\n",
      "\u001b[0;31mJSONDecodeError\u001b[0m: Expecting value: line 1 column 1 (char 0)",
      "\nDuring handling of the above exception, another exception occurred:\n",
      "\u001b[0;31mJSONDecodeError\u001b[0m                           Traceback (most recent call last)",
      "\u001b[1;32m/home/iloveu/Code/Reviews-Crawl/crawl_api/crawl_api.ipynb Cell 9'\u001b[0m in \u001b[0;36m<cell line: 1>\u001b[0;34m()\u001b[0m\n\u001b[0;32m----> <a href='vscode-notebook-cell:/home/iloveu/Code/Reviews-Crawl/crawl_api/crawl_api.ipynb#ch0000021?line=0'>1</a>\u001b[0m ls_items \u001b[39m=\u001b[39m getItem(\u001b[39m\"\u001b[39;49m\u001b[39mnuoc hoa\u001b[39;49m\u001b[39m\"\u001b[39;49m)\n\u001b[1;32m      <a href='vscode-notebook-cell:/home/iloveu/Code/Reviews-Crawl/crawl_api/crawl_api.ipynb#ch0000021?line=1'>2</a>\u001b[0m reviews \u001b[39m=\u001b[39m getReview(ls_items, \u001b[39m\"\u001b[39m\u001b[39mnuoc_hoa.csv\u001b[39m\u001b[39m\"\u001b[39m)\n",
      "\u001b[1;32m/home/iloveu/Code/Reviews-Crawl/crawl_api/crawl_api.ipynb Cell 4'\u001b[0m in \u001b[0;36mgetItem\u001b[0;34m(keyword)\u001b[0m\n\u001b[1;32m      <a href='vscode-notebook-cell:/home/iloveu/Code/Reviews-Crawl/crawl_api/crawl_api.ipynb#ch0000006?line=4'>5</a>\u001b[0m search_api \u001b[39m=\u001b[39m \u001b[39mf\u001b[39m\u001b[39m\"\u001b[39m\u001b[39mhttps://shopee.vn/api/v4/search/search_items?by=relevancy&keyword=\u001b[39m\u001b[39m{\u001b[39;00mkeyword\u001b[39m}\u001b[39;00m\u001b[39m&limit=\u001b[39m\u001b[39m{\u001b[39;00mLIMIT\u001b[39m}\u001b[39;00m\u001b[39m&newest=\u001b[39m\u001b[39m{\u001b[39;00mpage\u001b[39m}\u001b[39;00m\u001b[39m&order=desc&page_type=search&scenario=PAGE_GLOBAL_SEARCH&version=2\u001b[39m\u001b[39m\"\u001b[39m\n\u001b[1;32m      <a href='vscode-notebook-cell:/home/iloveu/Code/Reviews-Crawl/crawl_api/crawl_api.ipynb#ch0000006?line=5'>6</a>\u001b[0m response \u001b[39m=\u001b[39m req\u001b[39m.\u001b[39mget(search_api)\n\u001b[0;32m----> <a href='vscode-notebook-cell:/home/iloveu/Code/Reviews-Crawl/crawl_api/crawl_api.ipynb#ch0000006?line=6'>7</a>\u001b[0m items \u001b[39m=\u001b[39m response\u001b[39m.\u001b[39;49mjson()\n\u001b[1;32m      <a href='vscode-notebook-cell:/home/iloveu/Code/Reviews-Crawl/crawl_api/crawl_api.ipynb#ch0000006?line=7'>8</a>\u001b[0m items \u001b[39m=\u001b[39m items[\u001b[39m'\u001b[39m\u001b[39mitems\u001b[39m\u001b[39m'\u001b[39m]\n\u001b[1;32m      <a href='vscode-notebook-cell:/home/iloveu/Code/Reviews-Crawl/crawl_api/crawl_api.ipynb#ch0000006?line=8'>9</a>\u001b[0m \u001b[39mfor\u001b[39;00m item \u001b[39min\u001b[39;00m items:\n",
      "File \u001b[0;32m~/Code/Reviews-Crawl/.env/lib/python3.8/site-packages/requests/models.py:917\u001b[0m, in \u001b[0;36mResponse.json\u001b[0;34m(self, **kwargs)\u001b[0m\n\u001b[1;32m    <a href='file:///home/iloveu/Code/Reviews-Crawl/.env/lib/python3.8/site-packages/requests/models.py?line=914'>915</a>\u001b[0m     \u001b[39mraise\u001b[39;00m RequestsJSONDecodeError(e\u001b[39m.\u001b[39mmessage)\n\u001b[1;32m    <a href='file:///home/iloveu/Code/Reviews-Crawl/.env/lib/python3.8/site-packages/requests/models.py?line=915'>916</a>\u001b[0m \u001b[39melse\u001b[39;00m:\n\u001b[0;32m--> <a href='file:///home/iloveu/Code/Reviews-Crawl/.env/lib/python3.8/site-packages/requests/models.py?line=916'>917</a>\u001b[0m     \u001b[39mraise\u001b[39;00m RequestsJSONDecodeError(e\u001b[39m.\u001b[39mmsg, e\u001b[39m.\u001b[39mdoc, e\u001b[39m.\u001b[39mpos)\n",
      "\u001b[0;31mJSONDecodeError\u001b[0m: [Errno Expecting value] <html>\r\n<head><title>403 Forbidden</title></head>\r\n<body>\r\n<center><h1>403 Forbidden</h1></center>\r\n<hr><center>nginx</center>\r\n</body>\r\n</html>\r\n: 0"
     ]
    }
   ],
   "source": [
    "ls_items = getItem(\"nuoc hoa\")\n",
    "reviews = getReview(ls_items, \"nuoc_hoa.csv\")"
   ]
  }
 ],
 "metadata": {
  "interpreter": {
   "hash": "591d1e127ac6dc1619a145c76d4125c0348b795cc43fea3e0fdb30a4a16a5f71"
  },
  "kernelspec": {
   "display_name": "Python 3.8.10 ('.env': venv)",
   "language": "python",
   "name": "python3"
  },
  "language_info": {
   "codemirror_mode": {
    "name": "ipython",
    "version": 3
   },
   "file_extension": ".py",
   "mimetype": "text/x-python",
   "name": "python",
   "nbconvert_exporter": "python",
   "pygments_lexer": "ipython3",
   "version": "3.8.10"
  },
  "orig_nbformat": 4
 },
 "nbformat": 4,
 "nbformat_minor": 2
}
